{
 "cells": [
  {
   "cell_type": "code",
   "execution_count": 2,
   "id": "9ad9d76b",
   "metadata": {},
   "outputs": [
    {
     "name": "stdout",
     "output_type": "stream",
     "text": [
      "Time to run: 26.459016799926758 seconds\n"
     ]
    }
   ],
   "source": [
    "from sklearn.ensemble import RandomForestRegressor\n",
    "from sklearn.datasets import make_regression\n",
    "import time\n",
    "\n",
    "# Generate a random dataset\n",
    "X, y = make_regression(n_samples=16512, n_features=24, noise=0.1)\n",
    "\n",
    "# Initialize the regressor\n",
    "regressor = RandomForestRegressor(n_estimators=100, max_depth=10)\n",
    "\n",
    "# Measure the time to fit the model\n",
    "start_time = time.time()\n",
    "regressor.fit(X, y)\n",
    "end_time = time.time()\n",
    "\n",
    "print(f\"Time to run: {end_time - start_time} seconds\")"
   ]
  }
 ],
 "metadata": {
  "kernelspec": {
   "display_name": "myenv",
   "language": "python",
   "name": "myenv"
  },
  "language_info": {
   "codemirror_mode": {
    "name": "ipython",
    "version": 3
   },
   "file_extension": ".py",
   "mimetype": "text/x-python",
   "name": "python",
   "nbconvert_exporter": "python",
   "pygments_lexer": "ipython3",
   "version": "3.13.2"
  }
 },
 "nbformat": 4,
 "nbformat_minor": 5
}
